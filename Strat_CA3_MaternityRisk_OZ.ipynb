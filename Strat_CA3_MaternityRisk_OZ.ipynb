{
 "cells": [
  {
   "cell_type": "markdown",
   "id": "03ba6da3",
   "metadata": {},
   "source": [
    "# <center>Maternal Health Risk Analysis "
   ]
  },
  {
   "cell_type": "markdown",
   "id": "53a2bb98",
   "metadata": {},
   "source": [
    "## <center>Introduction"
   ]
  },
  {
   "cell_type": "markdown",
   "id": "12da61f5",
   "metadata": {},
   "source": [
    "Maternal health risk analysis seeks to identify and comprehend the variables that raise health risks for expectant mothers and new mothers. Finding trends, correlations, and possible predictors linked to maternal health risks is the main objective. The purpose of this analysis is to offer insights that will help improve prenatal care, strengthen maternal healthcare strategies, and ultimately lower the health risks associated with pregnancy.  the goal is to contribute to advancements in healthcare practices, improve the overall well-being of pregnant individuals, and promote healthier outcomes for both mothers and newborns."
   ]
  },
  {
   "cell_type": "markdown",
   "id": "56356fe8",
   "metadata": {},
   "source": [
    "### Import, install Libraries <br>"
   ]
  },
  {
   "cell_type": "code",
   "execution_count": 1,
   "id": "fdf24eed",
   "metadata": {},
   "outputs": [],
   "source": [
    "#pip install yellowbrick\n",
    "#pip install streamlit"
   ]
  },
  {
   "cell_type": "code",
   "execution_count": 2,
   "id": "90b3f8f4",
   "metadata": {},
   "outputs": [],
   "source": [
    "import pandas as pd\n",
    "import seaborn as sns\n",
    "import numpy as np\n",
    "import matplotlib.pyplot as plt\n",
    "from sklearn.model_selection import train_test_split\n",
    "from sklearn.preprocessing import StandardScaler\n",
    "from sklearn.metrics import confusion_matrix, accuracy_score\n",
    "from sklearn.metrics import classification_report\n",
    "from yellowbrick.classifier import ROCAUC\n",
    "import matplotlib.pyplot as plt\n",
    "from sklearn.model_selection import train_test_split\n",
    "from sklearn.preprocessing import MinMaxScaler\n",
    "from yellowbrick.classifier import ClassificationReport\n",
    "from sklearn.ensemble import RandomForestClassifier\n",
    "from sklearn.metrics import accuracy_score\n",
    "from sklearn.discriminant_analysis import LinearDiscriminantAnalysis\n",
    "from matplotlib import pyplot\n",
    "import yellowbrick\n",
    "from sklearn.model_selection import train_test_split\n",
    "from sklearn.model_selection import cross_val_score\n",
    "from sklearn.model_selection import StratifiedKFold\n",
    "from sklearn.linear_model import LogisticRegression\n",
    "from sklearn.tree import DecisionTreeClassifier\n",
    "from sklearn.neighbors import KNeighborsClassifier\n",
    "from sklearn.discriminant_analysis import LinearDiscriminantAnalysis\n",
    "from sklearn.naive_bayes import GaussianNB\n",
    "from sklearn.metrics import classification_report\n",
    "from sklearn.metrics import confusion_matrix\n",
    "from sklearn.metrics import accuracy_score\n",
    "from sklearn.svm import SVC\n",
    "from yellowbrick.classifier import ROCAUC\n",
    "from yellowbrick.classifier import PrecisionRecallCurve\n",
    "import streamlit as st"
   ]
  },
  {
   "cell_type": "markdown",
   "id": "e471c641",
   "metadata": {},
   "source": [
    "### Loading Dataset <br>"
   ]
  },
  {
   "cell_type": "markdown",
   "id": "b76b0b7f",
   "metadata": {},
   "source": [
    "Pandas read_csv is used to import the data because the dataset file is a.csv file."
   ]
  },
  {
   "cell_type": "code",
   "execution_count": 3,
   "id": "e0aa1607",
   "metadata": {
    "scrolled": false
   },
   "outputs": [
    {
     "data": {
      "text/html": [
       "<div>\n",
       "<style scoped>\n",
       "    .dataframe tbody tr th:only-of-type {\n",
       "        vertical-align: middle;\n",
       "    }\n",
       "\n",
       "    .dataframe tbody tr th {\n",
       "        vertical-align: top;\n",
       "    }\n",
       "\n",
       "    .dataframe thead th {\n",
       "        text-align: right;\n",
       "    }\n",
       "</style>\n",
       "<table border=\"1\" class=\"dataframe\">\n",
       "  <thead>\n",
       "    <tr style=\"text-align: right;\">\n",
       "      <th></th>\n",
       "      <th>Age</th>\n",
       "      <th>SystolicBP</th>\n",
       "      <th>DiastolicBP</th>\n",
       "      <th>BS</th>\n",
       "      <th>BodyTemp</th>\n",
       "      <th>HeartRate</th>\n",
       "      <th>RiskLevel</th>\n",
       "    </tr>\n",
       "  </thead>\n",
       "  <tbody>\n",
       "    <tr>\n",
       "      <th>0</th>\n",
       "      <td>25</td>\n",
       "      <td>130</td>\n",
       "      <td>80</td>\n",
       "      <td>15.0</td>\n",
       "      <td>98.0</td>\n",
       "      <td>86</td>\n",
       "      <td>high risk</td>\n",
       "    </tr>\n",
       "    <tr>\n",
       "      <th>1</th>\n",
       "      <td>35</td>\n",
       "      <td>140</td>\n",
       "      <td>90</td>\n",
       "      <td>13.0</td>\n",
       "      <td>98.0</td>\n",
       "      <td>70</td>\n",
       "      <td>high risk</td>\n",
       "    </tr>\n",
       "    <tr>\n",
       "      <th>2</th>\n",
       "      <td>29</td>\n",
       "      <td>90</td>\n",
       "      <td>70</td>\n",
       "      <td>8.0</td>\n",
       "      <td>100.0</td>\n",
       "      <td>80</td>\n",
       "      <td>high risk</td>\n",
       "    </tr>\n",
       "    <tr>\n",
       "      <th>3</th>\n",
       "      <td>30</td>\n",
       "      <td>140</td>\n",
       "      <td>85</td>\n",
       "      <td>7.0</td>\n",
       "      <td>98.0</td>\n",
       "      <td>70</td>\n",
       "      <td>high risk</td>\n",
       "    </tr>\n",
       "    <tr>\n",
       "      <th>4</th>\n",
       "      <td>35</td>\n",
       "      <td>120</td>\n",
       "      <td>60</td>\n",
       "      <td>6.1</td>\n",
       "      <td>98.0</td>\n",
       "      <td>76</td>\n",
       "      <td>low risk</td>\n",
       "    </tr>\n",
       "    <tr>\n",
       "      <th>...</th>\n",
       "      <td>...</td>\n",
       "      <td>...</td>\n",
       "      <td>...</td>\n",
       "      <td>...</td>\n",
       "      <td>...</td>\n",
       "      <td>...</td>\n",
       "      <td>...</td>\n",
       "    </tr>\n",
       "    <tr>\n",
       "      <th>1004</th>\n",
       "      <td>13</td>\n",
       "      <td>90</td>\n",
       "      <td>65</td>\n",
       "      <td>9.0</td>\n",
       "      <td>101.0</td>\n",
       "      <td>80</td>\n",
       "      <td>high risk</td>\n",
       "    </tr>\n",
       "    <tr>\n",
       "      <th>1005</th>\n",
       "      <td>17</td>\n",
       "      <td>90</td>\n",
       "      <td>65</td>\n",
       "      <td>7.7</td>\n",
       "      <td>103.0</td>\n",
       "      <td>67</td>\n",
       "      <td>high risk</td>\n",
       "    </tr>\n",
       "    <tr>\n",
       "      <th>1006</th>\n",
       "      <td>17</td>\n",
       "      <td>85</td>\n",
       "      <td>60</td>\n",
       "      <td>6.3</td>\n",
       "      <td>102.0</td>\n",
       "      <td>86</td>\n",
       "      <td>high risk</td>\n",
       "    </tr>\n",
       "    <tr>\n",
       "      <th>1007</th>\n",
       "      <td>40</td>\n",
       "      <td>120</td>\n",
       "      <td>75</td>\n",
       "      <td>7.7</td>\n",
       "      <td>98.0</td>\n",
       "      <td>70</td>\n",
       "      <td>high risk</td>\n",
       "    </tr>\n",
       "    <tr>\n",
       "      <th>1008</th>\n",
       "      <td>48</td>\n",
       "      <td>120</td>\n",
       "      <td>80</td>\n",
       "      <td>11.0</td>\n",
       "      <td>98.0</td>\n",
       "      <td>88</td>\n",
       "      <td>high risk</td>\n",
       "    </tr>\n",
       "  </tbody>\n",
       "</table>\n",
       "<p>1009 rows × 7 columns</p>\n",
       "</div>"
      ],
      "text/plain": [
       "      Age  SystolicBP  DiastolicBP    BS  BodyTemp  HeartRate  RiskLevel\n",
       "0      25         130           80  15.0      98.0         86  high risk\n",
       "1      35         140           90  13.0      98.0         70  high risk\n",
       "2      29          90           70   8.0     100.0         80  high risk\n",
       "3      30         140           85   7.0      98.0         70  high risk\n",
       "4      35         120           60   6.1      98.0         76   low risk\n",
       "...   ...         ...          ...   ...       ...        ...        ...\n",
       "1004   13          90           65   9.0     101.0         80  high risk\n",
       "1005   17          90           65   7.7     103.0         67  high risk\n",
       "1006   17          85           60   6.3     102.0         86  high risk\n",
       "1007   40         120           75   7.7      98.0         70  high risk\n",
       "1008   48         120           80  11.0      98.0         88  high risk\n",
       "\n",
       "[1009 rows x 7 columns]"
      ]
     },
     "execution_count": 3,
     "metadata": {},
     "output_type": "execute_result"
    }
   ],
   "source": [
    "df = pd.read_csv(\"Maternal Health Risk Data Set.csv\")\n",
    "df.head(-5)"
   ]
  },
  {
   "cell_type": "markdown",
   "id": "6ecd45bc",
   "metadata": {},
   "source": [
    "Below is the confirmation that this is indeed a  dataset with 1,009 observations (rows) and 7 variables (columns)."
   ]
  },
  {
   "cell_type": "markdown",
   "id": "e8516ed0",
   "metadata": {},
   "source": [
    "Data type all are numeric except RiskLevel (target)\n",
    "Categorical Variable: Risk Level.\n",
    "Numerical Variable: Age, SystolicBP, DiastolicBP, BS, BodyTemp, HeartRate.\n",
    "Because we have categorical and numerical fetures,- it is recognised as classification problem. (Kumar, A. 2023)"
   ]
  },
  {
   "cell_type": "markdown",
   "id": "b782dac9",
   "metadata": {},
   "source": [
    "### Data Exploration and Preprocessing <br> "
   ]
  },
  {
   "cell_type": "code",
   "execution_count": 4,
   "id": "3e6e7388",
   "metadata": {
    "scrolled": true
   },
   "outputs": [
    {
     "name": "stdout",
     "output_type": "stream",
     "text": [
      "<class 'pandas.core.frame.DataFrame'>\n",
      "RangeIndex: 1014 entries, 0 to 1013\n",
      "Data columns (total 7 columns):\n",
      " #   Column       Non-Null Count  Dtype  \n",
      "---  ------       --------------  -----  \n",
      " 0   Age          1014 non-null   int64  \n",
      " 1   SystolicBP   1014 non-null   int64  \n",
      " 2   DiastolicBP  1014 non-null   int64  \n",
      " 3   BS           1014 non-null   float64\n",
      " 4   BodyTemp     1014 non-null   float64\n",
      " 5   HeartRate    1014 non-null   int64  \n",
      " 6   RiskLevel    1014 non-null   object \n",
      "dtypes: float64(2), int64(4), object(1)\n",
      "memory usage: 55.6+ KB\n"
     ]
    }
   ],
   "source": [
    "df.info()"
   ]
  },
  {
   "cell_type": "markdown",
   "id": "a27eeda3",
   "metadata": {},
   "source": [
    "The following step gives you an idea of how the Pandas library currently recognizes the various variables. Four of the seven columns have integer types, two have float types, and one is object type. Further research is necessary because, as the above display indicates, all of these variables—aside from the target variable—should be floats or integers.\n",
    "The file is 55+ MK in size, which is also large."
   ]
  },
  {
   "cell_type": "code",
   "execution_count": 5,
   "id": "ef39552b",
   "metadata": {},
   "outputs": [
    {
     "data": {
      "text/plain": [
       "(1014, 7)"
      ]
     },
     "execution_count": 5,
     "metadata": {},
     "output_type": "execute_result"
    }
   ],
   "source": [
    "df.shape"
   ]
  },
  {
   "cell_type": "markdown",
   "id": "b7a44c24",
   "metadata": {},
   "source": [
    "### Investigating Duplicates\n",
    "There seem to be duplicated data in this dataset."
   ]
  },
  {
   "cell_type": "markdown",
   "id": "6ee2fb82",
   "metadata": {},
   "source": [
    "Duplicate data takes up unnecessary storage space and slows down calculations at a minimum. At worst, duplicate data can skew analysis results and threaten the integrity of the data set. Including them will essentially lead to the model overfitting this subset of points. But in this case, we will try to analyze this data first to understand the distribution of the data."
   ]
  },
  {
   "cell_type": "code",
   "execution_count": 6,
   "id": "225f3969",
   "metadata": {},
   "outputs": [
    {
     "data": {
      "text/plain": [
       "True"
      ]
     },
     "execution_count": 6,
     "metadata": {},
     "output_type": "execute_result"
    }
   ],
   "source": [
    "#Will see if have Duplicated value \n",
    "df_dup = df.duplicated().any()\n",
    "df_dup"
   ]
  },
  {
   "cell_type": "code",
   "execution_count": 7,
   "id": "7a131faf",
   "metadata": {},
   "outputs": [
    {
     "data": {
      "text/plain": [
       "1"
      ]
     },
     "execution_count": 7,
     "metadata": {},
     "output_type": "execute_result"
    }
   ],
   "source": [
    "df_dup.sum()"
   ]
  },
  {
   "cell_type": "markdown",
   "id": "226bea98",
   "metadata": {},
   "source": [
    "We had 574 duplicates in the dataset, which is a significant amount of duplicates. However, in this instance, the patients may have the same value for certain health factors. We will attempt to analyze the data initially in order to comprehend the distribution of the data, since a woman may be 25 years old and another woman may be the same age."
   ]
  },
  {
   "cell_type": "code",
   "execution_count": 8,
   "id": "8cacd20c",
   "metadata": {
    "scrolled": true
   },
   "outputs": [
    {
     "data": {
      "text/plain": [
       "(1014, 7)"
      ]
     },
     "execution_count": 8,
     "metadata": {},
     "output_type": "execute_result"
    }
   ],
   "source": [
    "df.shape"
   ]
  },
  {
   "cell_type": "code",
   "execution_count": 9,
   "id": "e34fae0f",
   "metadata": {},
   "outputs": [
    {
     "data": {
      "text/html": [
       "<div>\n",
       "<style scoped>\n",
       "    .dataframe tbody tr th:only-of-type {\n",
       "        vertical-align: middle;\n",
       "    }\n",
       "\n",
       "    .dataframe tbody tr th {\n",
       "        vertical-align: top;\n",
       "    }\n",
       "\n",
       "    .dataframe thead th {\n",
       "        text-align: right;\n",
       "    }\n",
       "</style>\n",
       "<table border=\"1\" class=\"dataframe\">\n",
       "  <thead>\n",
       "    <tr style=\"text-align: right;\">\n",
       "      <th></th>\n",
       "      <th>Age</th>\n",
       "      <th>SystolicBP</th>\n",
       "      <th>DiastolicBP</th>\n",
       "      <th>BS</th>\n",
       "      <th>BodyTemp</th>\n",
       "      <th>HeartRate</th>\n",
       "      <th>RiskLevel</th>\n",
       "    </tr>\n",
       "  </thead>\n",
       "  <tbody>\n",
       "    <tr>\n",
       "      <th>96</th>\n",
       "      <td>29</td>\n",
       "      <td>130</td>\n",
       "      <td>70</td>\n",
       "      <td>7.8</td>\n",
       "      <td>98.0</td>\n",
       "      <td>78</td>\n",
       "      <td>mid risk</td>\n",
       "    </tr>\n",
       "  </tbody>\n",
       "</table>\n",
       "</div>"
      ],
      "text/plain": [
       "    Age  SystolicBP  DiastolicBP   BS  BodyTemp  HeartRate RiskLevel\n",
       "96   29         130           70  7.8      98.0         78  mid risk"
      ]
     },
     "execution_count": 9,
     "metadata": {},
     "output_type": "execute_result"
    }
   ],
   "source": [
    "df.sample()"
   ]
  },
  {
   "cell_type": "code",
   "execution_count": 10,
   "id": "66cd03dd",
   "metadata": {
    "scrolled": true
   },
   "outputs": [
    {
     "data": {
      "text/plain": [
       "Age  SystolicBP  DiastolicBP  BS    BodyTemp  HeartRate  RiskLevel\n",
       "19   120         80           7.0   98.0      70         mid risk     27\n",
       "48   120         80           11.0  98.0      88         high risk    14\n",
       "31   120         60           6.1   98.0      76         mid risk     13\n",
       "40   160         100          19.0  98.0      77         high risk    10\n",
       "55   140         95           19.0  98.0      77         high risk    10\n",
       "                                                                      ..\n",
       "25   120         90           6.9   98.0      70         low risk      1\n",
       "                                              80         low risk      1\n",
       "                              7.5   98.0      80         low risk      1\n",
       "                 100          6.8   98.0      60         low risk      1\n",
       "70   85          60           6.9   102.0     70         low risk      1\n",
       "Name: count, Length: 452, dtype: int64"
      ]
     },
     "execution_count": 10,
     "metadata": {},
     "output_type": "execute_result"
    }
   ],
   "source": [
    "df.value_counts()"
   ]
  },
  {
   "cell_type": "code",
   "execution_count": 11,
   "id": "c817ba86",
   "metadata": {},
   "outputs": [
    {
     "data": {
      "text/plain": [
       "int64      4\n",
       "float64    2\n",
       "object     1\n",
       "Name: count, dtype: int64"
      ]
     },
     "execution_count": 11,
     "metadata": {},
     "output_type": "execute_result"
    }
   ],
   "source": [
    "df.dtypes.value_counts()"
   ]
  },
  {
   "cell_type": "code",
   "execution_count": 12,
   "id": "a3d863eb",
   "metadata": {
    "scrolled": false
   },
   "outputs": [
    {
     "data": {
      "text/html": [
       "<div>\n",
       "<style scoped>\n",
       "    .dataframe tbody tr th:only-of-type {\n",
       "        vertical-align: middle;\n",
       "    }\n",
       "\n",
       "    .dataframe tbody tr th {\n",
       "        vertical-align: top;\n",
       "    }\n",
       "\n",
       "    .dataframe thead th {\n",
       "        text-align: right;\n",
       "    }\n",
       "</style>\n",
       "<table border=\"1\" class=\"dataframe\">\n",
       "  <thead>\n",
       "    <tr style=\"text-align: right;\">\n",
       "      <th></th>\n",
       "      <th>Age</th>\n",
       "      <th>SystolicBP</th>\n",
       "      <th>DiastolicBP</th>\n",
       "      <th>BS</th>\n",
       "      <th>BodyTemp</th>\n",
       "      <th>HeartRate</th>\n",
       "    </tr>\n",
       "  </thead>\n",
       "  <tbody>\n",
       "    <tr>\n",
       "      <th>count</th>\n",
       "      <td>1014.000000</td>\n",
       "      <td>1014.000000</td>\n",
       "      <td>1014.000000</td>\n",
       "      <td>1014.000000</td>\n",
       "      <td>1014.000000</td>\n",
       "      <td>1014.000000</td>\n",
       "    </tr>\n",
       "    <tr>\n",
       "      <th>mean</th>\n",
       "      <td>29.871795</td>\n",
       "      <td>113.198225</td>\n",
       "      <td>76.460552</td>\n",
       "      <td>8.725986</td>\n",
       "      <td>98.665089</td>\n",
       "      <td>74.301775</td>\n",
       "    </tr>\n",
       "    <tr>\n",
       "      <th>std</th>\n",
       "      <td>13.474386</td>\n",
       "      <td>18.403913</td>\n",
       "      <td>13.885796</td>\n",
       "      <td>3.293532</td>\n",
       "      <td>1.371384</td>\n",
       "      <td>8.088702</td>\n",
       "    </tr>\n",
       "    <tr>\n",
       "      <th>min</th>\n",
       "      <td>10.000000</td>\n",
       "      <td>70.000000</td>\n",
       "      <td>49.000000</td>\n",
       "      <td>6.000000</td>\n",
       "      <td>98.000000</td>\n",
       "      <td>7.000000</td>\n",
       "    </tr>\n",
       "    <tr>\n",
       "      <th>25%</th>\n",
       "      <td>19.000000</td>\n",
       "      <td>100.000000</td>\n",
       "      <td>65.000000</td>\n",
       "      <td>6.900000</td>\n",
       "      <td>98.000000</td>\n",
       "      <td>70.000000</td>\n",
       "    </tr>\n",
       "    <tr>\n",
       "      <th>50%</th>\n",
       "      <td>26.000000</td>\n",
       "      <td>120.000000</td>\n",
       "      <td>80.000000</td>\n",
       "      <td>7.500000</td>\n",
       "      <td>98.000000</td>\n",
       "      <td>76.000000</td>\n",
       "    </tr>\n",
       "    <tr>\n",
       "      <th>75%</th>\n",
       "      <td>39.000000</td>\n",
       "      <td>120.000000</td>\n",
       "      <td>90.000000</td>\n",
       "      <td>8.000000</td>\n",
       "      <td>98.000000</td>\n",
       "      <td>80.000000</td>\n",
       "    </tr>\n",
       "    <tr>\n",
       "      <th>max</th>\n",
       "      <td>70.000000</td>\n",
       "      <td>160.000000</td>\n",
       "      <td>100.000000</td>\n",
       "      <td>19.000000</td>\n",
       "      <td>103.000000</td>\n",
       "      <td>90.000000</td>\n",
       "    </tr>\n",
       "  </tbody>\n",
       "</table>\n",
       "</div>"
      ],
      "text/plain": [
       "               Age   SystolicBP  DiastolicBP           BS     BodyTemp  \\\n",
       "count  1014.000000  1014.000000  1014.000000  1014.000000  1014.000000   \n",
       "mean     29.871795   113.198225    76.460552     8.725986    98.665089   \n",
       "std      13.474386    18.403913    13.885796     3.293532     1.371384   \n",
       "min      10.000000    70.000000    49.000000     6.000000    98.000000   \n",
       "25%      19.000000   100.000000    65.000000     6.900000    98.000000   \n",
       "50%      26.000000   120.000000    80.000000     7.500000    98.000000   \n",
       "75%      39.000000   120.000000    90.000000     8.000000    98.000000   \n",
       "max      70.000000   160.000000   100.000000    19.000000   103.000000   \n",
       "\n",
       "         HeartRate  \n",
       "count  1014.000000  \n",
       "mean     74.301775  \n",
       "std       8.088702  \n",
       "min       7.000000  \n",
       "25%      70.000000  \n",
       "50%      76.000000  \n",
       "75%      80.000000  \n",
       "max      90.000000  "
      ]
     },
     "execution_count": 12,
     "metadata": {},
     "output_type": "execute_result"
    }
   ],
   "source": [
    "df.describe()"
   ]
  },
  {
   "cell_type": "markdown",
   "id": "34c7953f",
   "metadata": {},
   "source": [
    "Now that all the variables are the correct types, using .describe(), this will provide a quick overview of the standard statistical values of the data as well as the count, which will provide a rough view of the missingness of the data."
   ]
  },
  {
   "cell_type": "code",
   "execution_count": 13,
   "id": "f7d629f4",
   "metadata": {
    "scrolled": true
   },
   "outputs": [
    {
     "data": {
      "text/html": [
       "<div>\n",
       "<style scoped>\n",
       "    .dataframe tbody tr th:only-of-type {\n",
       "        vertical-align: middle;\n",
       "    }\n",
       "\n",
       "    .dataframe tbody tr th {\n",
       "        vertical-align: top;\n",
       "    }\n",
       "\n",
       "    .dataframe thead th {\n",
       "        text-align: right;\n",
       "    }\n",
       "</style>\n",
       "<table border=\"1\" class=\"dataframe\">\n",
       "  <thead>\n",
       "    <tr style=\"text-align: right;\">\n",
       "      <th></th>\n",
       "      <th>count</th>\n",
       "      <th>mean</th>\n",
       "      <th>std</th>\n",
       "      <th>min</th>\n",
       "      <th>25%</th>\n",
       "      <th>50%</th>\n",
       "      <th>75%</th>\n",
       "      <th>max</th>\n",
       "    </tr>\n",
       "  </thead>\n",
       "  <tbody>\n",
       "    <tr>\n",
       "      <th>Age</th>\n",
       "      <td>1014.0</td>\n",
       "      <td>29.871795</td>\n",
       "      <td>13.474386</td>\n",
       "      <td>10.0</td>\n",
       "      <td>19.0</td>\n",
       "      <td>26.0</td>\n",
       "      <td>39.0</td>\n",
       "      <td>70.0</td>\n",
       "    </tr>\n",
       "    <tr>\n",
       "      <th>SystolicBP</th>\n",
       "      <td>1014.0</td>\n",
       "      <td>113.198225</td>\n",
       "      <td>18.403913</td>\n",
       "      <td>70.0</td>\n",
       "      <td>100.0</td>\n",
       "      <td>120.0</td>\n",
       "      <td>120.0</td>\n",
       "      <td>160.0</td>\n",
       "    </tr>\n",
       "    <tr>\n",
       "      <th>DiastolicBP</th>\n",
       "      <td>1014.0</td>\n",
       "      <td>76.460552</td>\n",
       "      <td>13.885796</td>\n",
       "      <td>49.0</td>\n",
       "      <td>65.0</td>\n",
       "      <td>80.0</td>\n",
       "      <td>90.0</td>\n",
       "      <td>100.0</td>\n",
       "    </tr>\n",
       "    <tr>\n",
       "      <th>BS</th>\n",
       "      <td>1014.0</td>\n",
       "      <td>8.725986</td>\n",
       "      <td>3.293532</td>\n",
       "      <td>6.0</td>\n",
       "      <td>6.9</td>\n",
       "      <td>7.5</td>\n",
       "      <td>8.0</td>\n",
       "      <td>19.0</td>\n",
       "    </tr>\n",
       "    <tr>\n",
       "      <th>BodyTemp</th>\n",
       "      <td>1014.0</td>\n",
       "      <td>98.665089</td>\n",
       "      <td>1.371384</td>\n",
       "      <td>98.0</td>\n",
       "      <td>98.0</td>\n",
       "      <td>98.0</td>\n",
       "      <td>98.0</td>\n",
       "      <td>103.0</td>\n",
       "    </tr>\n",
       "    <tr>\n",
       "      <th>HeartRate</th>\n",
       "      <td>1014.0</td>\n",
       "      <td>74.301775</td>\n",
       "      <td>8.088702</td>\n",
       "      <td>7.0</td>\n",
       "      <td>70.0</td>\n",
       "      <td>76.0</td>\n",
       "      <td>80.0</td>\n",
       "      <td>90.0</td>\n",
       "    </tr>\n",
       "  </tbody>\n",
       "</table>\n",
       "</div>"
      ],
      "text/plain": [
       "              count        mean        std   min    25%    50%    75%    max\n",
       "Age          1014.0   29.871795  13.474386  10.0   19.0   26.0   39.0   70.0\n",
       "SystolicBP   1014.0  113.198225  18.403913  70.0  100.0  120.0  120.0  160.0\n",
       "DiastolicBP  1014.0   76.460552  13.885796  49.0   65.0   80.0   90.0  100.0\n",
       "BS           1014.0    8.725986   3.293532   6.0    6.9    7.5    8.0   19.0\n",
       "BodyTemp     1014.0   98.665089   1.371384  98.0   98.0   98.0   98.0  103.0\n",
       "HeartRate    1014.0   74.301775   8.088702   7.0   70.0   76.0   80.0   90.0"
      ]
     },
     "execution_count": 13,
     "metadata": {},
     "output_type": "execute_result"
    }
   ],
   "source": [
    "df.describe().T"
   ]
  },
  {
   "cell_type": "markdown",
   "id": "5dc5a02e",
   "metadata": {},
   "source": [
    "df.describe().T shows dataset with differing physiological parameter levels among individuals is revealed by the summary statistics, offering a basis for investigating maternal health risks. Although there is some variation in blood pressure and blood sugar levels, body temperature is generally constant throughout the dataset. In order to improve prenatal care and maternal health outcomes, more analysis of these parameters in relation to maternal health risk levels can help develop targeted interventions and predictive models. (note.nkmk.me. (2024))"
   ]
  },
  {
   "cell_type": "code",
   "execution_count": 14,
   "id": "1a45963e",
   "metadata": {
    "scrolled": false
   },
   "outputs": [
    {
     "data": {
      "text/plain": [
       "Age            0\n",
       "SystolicBP     0\n",
       "DiastolicBP    0\n",
       "BS             0\n",
       "BodyTemp       0\n",
       "HeartRate      0\n",
       "RiskLevel      0\n",
       "dtype: int64"
      ]
     },
     "execution_count": 14,
     "metadata": {},
     "output_type": "execute_result"
    }
   ],
   "source": [
    "#Will check now for missing values\n",
    "df.isnull().sum()"
   ]
  },
  {
   "cell_type": "markdown",
   "id": "bda7be73",
   "metadata": {},
   "source": [
    "It has been determined that there are no instances of missing or null values in the dataset after it has been carefully inspected. Every observation in the dataset, regardless of the variables and features, has accurate and comprehensive information. The lack of missing values guarantees the accuracy and consistency of the data, laying a strong basis for further analysis and modeling projects."
   ]
  },
  {
   "cell_type": "code",
   "execution_count": 15,
   "id": "e0cf8957",
   "metadata": {},
   "outputs": [
    {
     "name": "stdout",
     "output_type": "stream",
     "text": [
      "Number of zeros in the DataFrame:  0\n",
      "Percentage of Zeros: 0.00%\n"
     ]
    }
   ],
   "source": [
    "total_data = df.size\n",
    "zero_count = (df ==0).sum().sum()\n",
    "percentage_zeros = (zero_count / total_data) * 100\n",
    "\n",
    "print(\"Number of zeros in the DataFrame: \", zero_count)\n",
    "print(f\"Percentage of Zeros: {percentage_zeros:.2f}%\")"
   ]
  },
  {
   "cell_type": "markdown",
   "id": "8a6a7ec1",
   "metadata": {},
   "source": [
    "\"A matrix is sparse if a high percentage of its elements are zero. “High”, of course, is a relative term, but if about 50% or more of the elements are zero the matrix may be considered sparse.\" (Branham, R. L. (1990)) Given that the initial exploration also identified zero values, a brief examination of the data's sparsity was conducted. Sparse data can result in overfitting in models and increase memory usage. However, since the sparsity level of this data is below the standard threshold, no additional data cleaning is necessary."
   ]
  },
  {
   "cell_type": "code",
   "execution_count": 16,
   "id": "09e44db3",
   "metadata": {},
   "outputs": [
    {
     "name": "stdout",
     "output_type": "stream",
     "text": [
      "Index([], dtype='object')\n"
     ]
    }
   ],
   "source": [
    "categorical_columns = df.select_dtypes(include='category').columns\n",
    "print(categorical_columns)"
   ]
  },
  {
   "cell_type": "code",
   "execution_count": 17,
   "id": "5ebc8fda",
   "metadata": {
    "scrolled": true
   },
   "outputs": [
    {
     "data": {
      "text/plain": [
       "Age              int64\n",
       "SystolicBP       int64\n",
       "DiastolicBP      int64\n",
       "BS             float64\n",
       "BodyTemp       float64\n",
       "HeartRate        int64\n",
       "RiskLevel       object\n",
       "dtype: object"
      ]
     },
     "execution_count": 17,
     "metadata": {},
     "output_type": "execute_result"
    }
   ],
   "source": [
    "df.dtypes"
   ]
  },
  {
   "cell_type": "markdown",
   "id": "a6d74889",
   "metadata": {},
   "source": [
    "RiskLevel       object dtype: object - Means it is our categorical value."
   ]
  },
  {
   "cell_type": "code",
   "execution_count": 18,
   "id": "cf03e76b",
   "metadata": {
    "scrolled": true
   },
   "outputs": [
    {
     "data": {
      "text/plain": [
       "array(['high risk', 'low risk', 'mid risk'], dtype=object)"
      ]
     },
     "execution_count": 18,
     "metadata": {},
     "output_type": "execute_result"
    }
   ],
   "source": [
    "df['RiskLevel'].unique()"
   ]
  },
  {
   "cell_type": "code",
   "execution_count": 19,
   "id": "a87529fb",
   "metadata": {
    "scrolled": true
   },
   "outputs": [
    {
     "data": {
      "text/html": [
       "<div>\n",
       "<style scoped>\n",
       "    .dataframe tbody tr th:only-of-type {\n",
       "        vertical-align: middle;\n",
       "    }\n",
       "\n",
       "    .dataframe tbody tr th {\n",
       "        vertical-align: top;\n",
       "    }\n",
       "\n",
       "    .dataframe thead th {\n",
       "        text-align: right;\n",
       "    }\n",
       "</style>\n",
       "<table border=\"1\" class=\"dataframe\">\n",
       "  <thead>\n",
       "    <tr style=\"text-align: right;\">\n",
       "      <th></th>\n",
       "      <th>Age</th>\n",
       "      <th>SystolicBP</th>\n",
       "      <th>DiastolicBP</th>\n",
       "      <th>BS</th>\n",
       "      <th>BodyTemp</th>\n",
       "      <th>HeartRate</th>\n",
       "      <th>RiskLevel</th>\n",
       "    </tr>\n",
       "  </thead>\n",
       "  <tbody>\n",
       "    <tr>\n",
       "      <th>0</th>\n",
       "      <td>25</td>\n",
       "      <td>130</td>\n",
       "      <td>80</td>\n",
       "      <td>15.0</td>\n",
       "      <td>98.0</td>\n",
       "      <td>86</td>\n",
       "      <td>high risk</td>\n",
       "    </tr>\n",
       "    <tr>\n",
       "      <th>1</th>\n",
       "      <td>35</td>\n",
       "      <td>140</td>\n",
       "      <td>90</td>\n",
       "      <td>13.0</td>\n",
       "      <td>98.0</td>\n",
       "      <td>70</td>\n",
       "      <td>high risk</td>\n",
       "    </tr>\n",
       "    <tr>\n",
       "      <th>2</th>\n",
       "      <td>29</td>\n",
       "      <td>90</td>\n",
       "      <td>70</td>\n",
       "      <td>8.0</td>\n",
       "      <td>100.0</td>\n",
       "      <td>80</td>\n",
       "      <td>high risk</td>\n",
       "    </tr>\n",
       "    <tr>\n",
       "      <th>3</th>\n",
       "      <td>30</td>\n",
       "      <td>140</td>\n",
       "      <td>85</td>\n",
       "      <td>7.0</td>\n",
       "      <td>98.0</td>\n",
       "      <td>70</td>\n",
       "      <td>high risk</td>\n",
       "    </tr>\n",
       "    <tr>\n",
       "      <th>4</th>\n",
       "      <td>35</td>\n",
       "      <td>120</td>\n",
       "      <td>60</td>\n",
       "      <td>6.1</td>\n",
       "      <td>98.0</td>\n",
       "      <td>76</td>\n",
       "      <td>low risk</td>\n",
       "    </tr>\n",
       "  </tbody>\n",
       "</table>\n",
       "</div>"
      ],
      "text/plain": [
       "   Age  SystolicBP  DiastolicBP    BS  BodyTemp  HeartRate  RiskLevel\n",
       "0   25         130           80  15.0      98.0         86  high risk\n",
       "1   35         140           90  13.0      98.0         70  high risk\n",
       "2   29          90           70   8.0     100.0         80  high risk\n",
       "3   30         140           85   7.0      98.0         70  high risk\n",
       "4   35         120           60   6.1      98.0         76   low risk"
      ]
     },
     "execution_count": 19,
     "metadata": {},
     "output_type": "execute_result"
    }
   ],
   "source": [
    "df.head()"
   ]
  },
  {
   "cell_type": "code",
   "execution_count": 20,
   "id": "7ee1e654",
   "metadata": {},
   "outputs": [
    {
     "name": "stdout",
     "output_type": "stream",
     "text": [
      "Descriptive Statistics for Numerical Features:\n",
      "               Age   SystolicBP  DiastolicBP           BS     BodyTemp  \\\n",
      "count  1014.000000  1014.000000  1014.000000  1014.000000  1014.000000   \n",
      "mean     29.871795   113.198225    76.460552     8.725986    98.665089   \n",
      "std      13.474386    18.403913    13.885796     3.293532     1.371384   \n",
      "min      10.000000    70.000000    49.000000     6.000000    98.000000   \n",
      "25%      19.000000   100.000000    65.000000     6.900000    98.000000   \n",
      "50%      26.000000   120.000000    80.000000     7.500000    98.000000   \n",
      "75%      39.000000   120.000000    90.000000     8.000000    98.000000   \n",
      "max      70.000000   160.000000   100.000000    19.000000   103.000000   \n",
      "\n",
      "         HeartRate  \n",
      "count  1014.000000  \n",
      "mean     74.301775  \n",
      "std       8.088702  \n",
      "min       7.000000  \n",
      "25%      70.000000  \n",
      "50%      76.000000  \n",
      "75%      80.000000  \n",
      "max      90.000000  \n",
      "\n",
      "Summary Statistics for Categorical Features:\n",
      "       RiskLevel\n",
      "count       1014\n",
      "unique         3\n",
      "top     low risk\n",
      "freq         406\n"
     ]
    }
   ],
   "source": [
    "numerical_stats = df.describe()\n",
    "categorical_stats = df.describe(include='object')\n",
    "\n",
    "print(\"Descriptive Statistics for Numerical Features:\")\n",
    "print(numerical_stats)\n",
    "\n",
    "print(\"\\nSummary Statistics for Categorical Features:\")\n",
    "print(categorical_stats)"
   ]
  },
  {
   "cell_type": "markdown",
   "id": "3aaff3fb",
   "metadata": {},
   "source": [
    "# Encoding categorical features <br>"
   ]
  },
  {
   "cell_type": "code",
   "execution_count": 21,
   "id": "33015cc8",
   "metadata": {
    "scrolled": false
   },
   "outputs": [],
   "source": [
    "# Now will do mapping of Risk level\n",
    "risk_mapping = {\n",
    "    'low risk': 0,\n",
    "    'mid risk': 1,\n",
    "    'high risk': 2\n",
    "}"
   ]
  },
  {
   "cell_type": "code",
   "execution_count": 22,
   "id": "cc7dea05",
   "metadata": {
    "scrolled": true
   },
   "outputs": [
    {
     "data": {
      "text/html": [
       "<div>\n",
       "<style scoped>\n",
       "    .dataframe tbody tr th:only-of-type {\n",
       "        vertical-align: middle;\n",
       "    }\n",
       "\n",
       "    .dataframe tbody tr th {\n",
       "        vertical-align: top;\n",
       "    }\n",
       "\n",
       "    .dataframe thead th {\n",
       "        text-align: right;\n",
       "    }\n",
       "</style>\n",
       "<table border=\"1\" class=\"dataframe\">\n",
       "  <thead>\n",
       "    <tr style=\"text-align: right;\">\n",
       "      <th></th>\n",
       "      <th>Age</th>\n",
       "      <th>SystolicBP</th>\n",
       "      <th>DiastolicBP</th>\n",
       "      <th>BS</th>\n",
       "      <th>BodyTemp</th>\n",
       "      <th>HeartRate</th>\n",
       "      <th>RiskLevel</th>\n",
       "    </tr>\n",
       "  </thead>\n",
       "  <tbody>\n",
       "    <tr>\n",
       "      <th>0</th>\n",
       "      <td>25</td>\n",
       "      <td>130</td>\n",
       "      <td>80</td>\n",
       "      <td>15.0</td>\n",
       "      <td>98.0</td>\n",
       "      <td>86</td>\n",
       "      <td>2</td>\n",
       "    </tr>\n",
       "    <tr>\n",
       "      <th>1</th>\n",
       "      <td>35</td>\n",
       "      <td>140</td>\n",
       "      <td>90</td>\n",
       "      <td>13.0</td>\n",
       "      <td>98.0</td>\n",
       "      <td>70</td>\n",
       "      <td>2</td>\n",
       "    </tr>\n",
       "    <tr>\n",
       "      <th>2</th>\n",
       "      <td>29</td>\n",
       "      <td>90</td>\n",
       "      <td>70</td>\n",
       "      <td>8.0</td>\n",
       "      <td>100.0</td>\n",
       "      <td>80</td>\n",
       "      <td>2</td>\n",
       "    </tr>\n",
       "    <tr>\n",
       "      <th>3</th>\n",
       "      <td>30</td>\n",
       "      <td>140</td>\n",
       "      <td>85</td>\n",
       "      <td>7.0</td>\n",
       "      <td>98.0</td>\n",
       "      <td>70</td>\n",
       "      <td>2</td>\n",
       "    </tr>\n",
       "    <tr>\n",
       "      <th>4</th>\n",
       "      <td>35</td>\n",
       "      <td>120</td>\n",
       "      <td>60</td>\n",
       "      <td>6.1</td>\n",
       "      <td>98.0</td>\n",
       "      <td>76</td>\n",
       "      <td>0</td>\n",
       "    </tr>\n",
       "    <tr>\n",
       "      <th>...</th>\n",
       "      <td>...</td>\n",
       "      <td>...</td>\n",
       "      <td>...</td>\n",
       "      <td>...</td>\n",
       "      <td>...</td>\n",
       "      <td>...</td>\n",
       "      <td>...</td>\n",
       "    </tr>\n",
       "    <tr>\n",
       "      <th>1009</th>\n",
       "      <td>22</td>\n",
       "      <td>120</td>\n",
       "      <td>60</td>\n",
       "      <td>15.0</td>\n",
       "      <td>98.0</td>\n",
       "      <td>80</td>\n",
       "      <td>2</td>\n",
       "    </tr>\n",
       "    <tr>\n",
       "      <th>1010</th>\n",
       "      <td>55</td>\n",
       "      <td>120</td>\n",
       "      <td>90</td>\n",
       "      <td>18.0</td>\n",
       "      <td>98.0</td>\n",
       "      <td>60</td>\n",
       "      <td>2</td>\n",
       "    </tr>\n",
       "    <tr>\n",
       "      <th>1011</th>\n",
       "      <td>35</td>\n",
       "      <td>85</td>\n",
       "      <td>60</td>\n",
       "      <td>19.0</td>\n",
       "      <td>98.0</td>\n",
       "      <td>86</td>\n",
       "      <td>2</td>\n",
       "    </tr>\n",
       "    <tr>\n",
       "      <th>1012</th>\n",
       "      <td>43</td>\n",
       "      <td>120</td>\n",
       "      <td>90</td>\n",
       "      <td>18.0</td>\n",
       "      <td>98.0</td>\n",
       "      <td>70</td>\n",
       "      <td>2</td>\n",
       "    </tr>\n",
       "    <tr>\n",
       "      <th>1013</th>\n",
       "      <td>32</td>\n",
       "      <td>120</td>\n",
       "      <td>65</td>\n",
       "      <td>6.0</td>\n",
       "      <td>101.0</td>\n",
       "      <td>76</td>\n",
       "      <td>1</td>\n",
       "    </tr>\n",
       "  </tbody>\n",
       "</table>\n",
       "<p>1014 rows × 7 columns</p>\n",
       "</div>"
      ],
      "text/plain": [
       "      Age  SystolicBP  DiastolicBP    BS  BodyTemp  HeartRate  RiskLevel\n",
       "0      25         130           80  15.0      98.0         86          2\n",
       "1      35         140           90  13.0      98.0         70          2\n",
       "2      29          90           70   8.0     100.0         80          2\n",
       "3      30         140           85   7.0      98.0         70          2\n",
       "4      35         120           60   6.1      98.0         76          0\n",
       "...   ...         ...          ...   ...       ...        ...        ...\n",
       "1009   22         120           60  15.0      98.0         80          2\n",
       "1010   55         120           90  18.0      98.0         60          2\n",
       "1011   35          85           60  19.0      98.0         86          2\n",
       "1012   43         120           90  18.0      98.0         70          2\n",
       "1013   32         120           65   6.0     101.0         76          1\n",
       "\n",
       "[1014 rows x 7 columns]"
      ]
     },
     "execution_count": 22,
     "metadata": {},
     "output_type": "execute_result"
    }
   ],
   "source": [
    "df[\"RiskLevel\"] = df[\"RiskLevel\"].map(risk_mapping).fillna(\"RiskLevel\").astype(int)\n",
    "df"
   ]
  },
  {
   "cell_type": "code",
   "execution_count": 23,
   "id": "f66862bd",
   "metadata": {
    "scrolled": true
   },
   "outputs": [
    {
     "data": {
      "text/plain": [
       "Text(0.5, 0.001, 'Figure 1_CA3')"
      ]
     },
     "execution_count": 23,
     "metadata": {},
     "output_type": "execute_result"
    },
    {
     "data": {
      "image/png": "[encoded data removed]",
      "text/plain": [
       "<Figure size 1950x1170 with 2 Axes>"
      ]
     },
     "metadata": {},
     "output_type": "display_data"
    }
   ],
   "source": [
    "plt.figure(figsize=(15,9), dpi=130)\n",
    "sns.heatmap(df.corr(), cmap=\"jet\", annot=True)\n",
    "\n",
    "# Adding a title to the plot\n",
    "plt.title('Confusion Matrix',fontsize=14,fontweight='bold',color='grey',loc='left')\n",
    "# Adding a figure label\n",
    "plt.figtext(0.5,0.001,'Figure 1_CA3', ha='center', va='center',fontsize=16, fontweight='bold')"
   ]
  },
  {
   "cell_type": "markdown",
   "id": "a266f023",
   "metadata": {},
   "source": [
    "According to this visualisation, our data is not skewed. It is in balance. Despite that fact that we retained duplicates in comparison to our JN CA2."
   ]
  },
  {
   "cell_type": "code",
   "execution_count": 24,
   "id": "9b90c6c5",
   "metadata": {
    "scrolled": true
   },
   "outputs": [
    {
     "data": {
      "text/plain": [
       "Text(0.5, 0.001, 'Figure 2')"
      ]
     },
     "execution_count": 24,
     "metadata": {},
     "output_type": "execute_result"
    },
    {
     "data": {
      "image/png": "[encoded data removed]",
      "text/plain": [
       "<Figure size 800x550 with 1 Axes>"
      ]
     },
     "metadata": {},
     "output_type": "display_data"
    }
   ],
   "source": [
    "# Checking if target variable is balanced or not\n",
    "sns.countplot(df, x=\"RiskLevel\")\n",
    "# Adding a title to the plot\n",
    "plt.title('Histogram Risk Level',fontsize=14,fontweight='bold',color='darkgrey',loc='left')\n",
    "# Adding a figure label\n",
    "\n",
    "plt.figtext(0.5,0.001,'Figure 2', ha='center', va='center',fontsize=16, fontweight='bold')"
   ]
  },
  {
   "cell_type": "markdown",
   "id": "2eec09b1",
   "metadata": {},
   "source": [
    "Evaluating the target variable's balance entails a detailed analysis of the class distribution within the chosen outcome variable. A balanced dataset has a proportionate representation of instances across all classes because each class or category within the target variable shows a relatively equal frequency. In order to ensure fair and accurate predictions for all classes, this equilibrium is essential because it keeps the model from being biased toward predicting the majority class. However, an unbalanced dataset could have a significant difference in the number of occurrences between various classes, making it difficult for the model to identify and extrapolate patterns for minority classes. Class distributions can be visualized using histograms, bar charts, or class frequency calculations to assess balance. In situations where class imbalances could affect the model's performance, like in classification tasks with rare events or minority classes, it is especially crucial to make sure the distribution is balanced."
   ]
  },
  {
   "cell_type": "code",
   "execution_count": 25,
   "id": "e0016e96",
   "metadata": {},
   "outputs": [],
   "source": [
    "value_counts_result = df['RiskLevel'].value_counts()"
   ]
  },
  {
   "cell_type": "code",
   "execution_count": 26,
   "id": "09ff182a",
   "metadata": {
    "scrolled": true
   },
   "outputs": [
    {
     "data": {
      "image/png": "[encoded data removed]",
      "text/plain": [
       "<Figure size 600x600 with 1 Axes>"
      ]
     },
     "metadata": {},
     "output_type": "display_data"
    }
   ],
   "source": [
    "plt.figure(figsize=(6, 6))\n",
    "plt.pie(value_counts_result, labels=value_counts_result.index, autopct='%1.1f%%', startangle=60, colors=['pink', 'lightskyblue', 'purple'])\n",
    "\n",
    "plt.title('Risk Level Distribution',fontsize=14,fontweight='bold',color='darkgrey',loc='left')\n",
    "# Adding a figure label\n",
    "\n",
    "plt.figtext(0.5,0.001,'Figure 3', ha='center', va='center',fontsize=16, fontweight='bold')\n",
    "plt.show()"
   ]
  },
  {
   "cell_type": "markdown",
   "id": "79437f97",
   "metadata": {},
   "source": [
    "0 - Low Risk is updated now to 40.0% from 51.8%, 1 - medium risk is33.1% compared to 23.5% and 2 - high risk is 26.8% new while 24.8% after removing duplicates."
   ]
  },
  {
   "cell_type": "code",
   "execution_count": 27,
   "id": "97bb8a38",
   "metadata": {
    "scrolled": true
   },
   "outputs": [
    {
     "data": {
      "text/html": [
       "<div>\n",
       "<style scoped>\n",
       "    .dataframe tbody tr th:only-of-type {\n",
       "        vertical-align: middle;\n",
       "    }\n",
       "\n",
       "    .dataframe tbody tr th {\n",
       "        vertical-align: top;\n",
       "    }\n",
       "\n",
       "    .dataframe thead th {\n",
       "        text-align: right;\n",
       "    }\n",
       "</style>\n",
       "<table border=\"1\" class=\"dataframe\">\n",
       "  <thead>\n",
       "    <tr style=\"text-align: right;\">\n",
       "      <th></th>\n",
       "      <th>Age</th>\n",
       "      <th>SystolicBP</th>\n",
       "      <th>DiastolicBP</th>\n",
       "      <th>BS</th>\n",
       "      <th>BodyTemp</th>\n",
       "      <th>HeartRate</th>\n",
       "      <th>RiskLevel</th>\n",
       "    </tr>\n",
       "  </thead>\n",
       "  <tbody>\n",
       "    <tr>\n",
       "      <th>count</th>\n",
       "      <td>1014.000000</td>\n",
       "      <td>1014.000000</td>\n",
       "      <td>1014.000000</td>\n",
       "      <td>1014.000000</td>\n",
       "      <td>1014.000000</td>\n",
       "      <td>1014.000000</td>\n",
       "      <td>1014.000000</td>\n",
       "    </tr>\n",
       "    <tr>\n",
       "      <th>mean</th>\n",
       "      <td>29.871795</td>\n",
       "      <td>113.198225</td>\n",
       "      <td>76.460552</td>\n",
       "      <td>8.725986</td>\n",
       "      <td>98.665089</td>\n",
       "      <td>74.301775</td>\n",
       "      <td>0.867850</td>\n",
       "    </tr>\n",
       "    <tr>\n",
       "      <th>std</th>\n",
       "      <td>13.474386</td>\n",
       "      <td>18.403913</td>\n",
       "      <td>13.885796</td>\n",
       "      <td>3.293532</td>\n",
       "      <td>1.371384</td>\n",
       "      <td>8.088702</td>\n",
       "      <td>0.807353</td>\n",
       "    </tr>\n",
       "    <tr>\n",
       "      <th>min</th>\n",
       "      <td>10.000000</td>\n",
       "      <td>70.000000</td>\n",
       "      <td>49.000000</td>\n",
       "      <td>6.000000</td>\n",
       "      <td>98.000000</td>\n",
       "      <td>7.000000</td>\n",
       "      <td>0.000000</td>\n",
       "    </tr>\n",
       "    <tr>\n",
       "      <th>25%</th>\n",
       "      <td>19.000000</td>\n",
       "      <td>100.000000</td>\n",
       "      <td>65.000000</td>\n",
       "      <td>6.900000</td>\n",
       "      <td>98.000000</td>\n",
       "      <td>70.000000</td>\n",
       "      <td>0.000000</td>\n",
       "    </tr>\n",
       "    <tr>\n",
       "      <th>50%</th>\n",
       "      <td>26.000000</td>\n",
       "      <td>120.000000</td>\n",
       "      <td>80.000000</td>\n",
       "      <td>7.500000</td>\n",
       "      <td>98.000000</td>\n",
       "      <td>76.000000</td>\n",
       "      <td>1.000000</td>\n",
       "    </tr>\n",
       "    <tr>\n",
       "      <th>75%</th>\n",
       "      <td>39.000000</td>\n",
       "      <td>120.000000</td>\n",
       "      <td>90.000000</td>\n",
       "      <td>8.000000</td>\n",
       "      <td>98.000000</td>\n",
       "      <td>80.000000</td>\n",
       "      <td>2.000000</td>\n",
       "    </tr>\n",
       "    <tr>\n",
       "      <th>max</th>\n",
       "      <td>70.000000</td>\n",
       "      <td>160.000000</td>\n",
       "      <td>100.000000</td>\n",
       "      <td>19.000000</td>\n",
       "      <td>103.000000</td>\n",
       "      <td>90.000000</td>\n",
       "      <td>2.000000</td>\n",
       "    </tr>\n",
       "  </tbody>\n",
       "</table>\n",
       "</div>"
      ],
      "text/plain": [
       "               Age   SystolicBP  DiastolicBP           BS     BodyTemp  \\\n",
       "count  1014.000000  1014.000000  1014.000000  1014.000000  1014.000000   \n",
       "mean     29.871795   113.198225    76.460552     8.725986    98.665089   \n",
       "std      13.474386    18.403913    13.885796     3.293532     1.371384   \n",
       "min      10.000000    70.000000    49.000000     6.000000    98.000000   \n",
       "25%      19.000000   100.000000    65.000000     6.900000    98.000000   \n",
       "50%      26.000000   120.000000    80.000000     7.500000    98.000000   \n",
       "75%      39.000000   120.000000    90.000000     8.000000    98.000000   \n",
       "max      70.000000   160.000000   100.000000    19.000000   103.000000   \n",
       "\n",
       "         HeartRate    RiskLevel  \n",
       "count  1014.000000  1014.000000  \n",
       "mean     74.301775     0.867850  \n",
       "std       8.088702     0.807353  \n",
       "min       7.000000     0.000000  \n",
       "25%      70.000000     0.000000  \n",
       "50%      76.000000     1.000000  \n",
       "75%      80.000000     2.000000  \n",
       "max      90.000000     2.000000  "
      ]
     },
     "execution_count": 27,
     "metadata": {},
     "output_type": "execute_result"
    }
   ],
   "source": [
    "df.describe()"
   ]
  },
  {
   "cell_type": "code",
   "execution_count": 28,
   "id": "75794473",
   "metadata": {
    "scrolled": true
   },
   "outputs": [
    {
     "data": {
      "text/plain": [
       "Index(['Age', 'SystolicBP', 'DiastolicBP', 'BS', 'BodyTemp', 'HeartRate',\n",
       "       'RiskLevel'],\n",
       "      dtype='object')"
      ]
     },
     "execution_count": 28,
     "metadata": {},
     "output_type": "execute_result"
    }
   ],
   "source": [
    "df.columns"
   ]
  },
  {
   "cell_type": "code",
   "execution_count": 29,
   "id": "f35ef65d",
   "metadata": {},
   "outputs": [
    {
     "name": "stderr",
     "output_type": "stream",
     "text": [
      "2024-04-16 19:54:40.472 \n",
      "  \u001b[33m\u001b[1mWarning:\u001b[0m to view this Streamlit app on a browser, run it with the following\n",
      "  command:\n",
      "\n",
      "    streamlit run C:\\Users\\frajd\\anaconda3\\Lib\\site-packages\\ipykernel_launcher.py [ARGUMENTS]\n"
     ]
    },
    {
     "data": {
      "image/png": "[encoded data removed]",
      "text/plain": [
       "<Figure size 800x550 with 1 Axes>"
      ]
     },
     "metadata": {},
     "output_type": "display_data"
    }
   ],
   "source": [
    "def main():\n",
    "    st.title(\"Maternal Health Risk Analysis Dashboard\")\n",
    "    \n",
    "    st.subheader(\"Histogram of Age\")\n",
    "    fig, ax = plt.subplots()\n",
    "    ax.hist(df[\"Age\"], bins=20, color='skyblue', edgecolor='black')\n",
    "    ax.set_xlabel(\"Age\")\n",
    "    ax.set_ylabel(\"Frequency\")\n",
    "    ax.set_title(\"Histogram of Age\")\n",
    "    st.pyplot(fig)\n",
    "    \n",
    "if __name__ == \"__main__\":\n",
    "    main()"
   ]
  },
  {
   "cell_type": "markdown",
   "id": "b8c5691f",
   "metadata": {},
   "source": [
    "We see from df.describe min age is 10, max age is 70. This minimum age value indicates the presence of individuals as young as 10 within the dataset. On the other end of the spectrum, the maximum age recorded is 70 years, portraying the upper limit of the age range covered in our data. This diversity in age, spanning from 10 to 70 years, underscores the inclusivity of the dataset, capturing a broad spectrum of age groups and facilitating a nuanced exploration of potential age-related patterns or trends in subsequent analyses. The age value \"70\" can be considered an outlier, but \"10\" to \"14\" range is controversial. In fact, the discussion here indicates that the data set has real values. (Elflein, J. (2023))"
   ]
  },
  {
   "cell_type": "code",
   "execution_count": 30,
   "id": "ec7da8bb",
   "metadata": {},
   "outputs": [
    {
     "ename": "NameError",
     "evalue": "name 'new_year_2015_flights_df' is not defined",
     "output_type": "error",
     "traceback": [
      "\u001b[1;31m---------------------------------------------------------------------------\u001b[0m",
      "\u001b[1;31mNameError\u001b[0m                                 Traceback (most recent call last)",
      "Cell \u001b[1;32mIn[30], line 1\u001b[0m\n\u001b[1;32m----> 1\u001b[0m \u001b[38;5;28;01mfor\u001b[39;00m i \u001b[38;5;129;01min\u001b[39;00m \u001b[38;5;28mrange\u001b[39m(\u001b[38;5;28mlen\u001b[39m(new_year_2015_flights_df)):\n\u001b[0;32m      2\u001b[0m     fig\u001b[38;5;241m.\u001b[39madd_trace(\n\u001b[0;32m      3\u001b[0m         go\u001b[38;5;241m.\u001b[39mScattergeo(\n\u001b[0;32m      4\u001b[0m             locationmode \u001b[38;5;241m=\u001b[39m \u001b[38;5;124m'\u001b[39m\u001b[38;5;124mUSA-states\u001b[39m\u001b[38;5;124m'\u001b[39m,\n\u001b[1;32m   (...)\u001b[0m\n\u001b[0;32m      9\u001b[0m         )\n\u001b[0;32m     10\u001b[0m     )\n\u001b[0;32m     11\u001b[0m fig\u001b[38;5;241m.\u001b[39mupdate_layout(\n\u001b[0;32m     12\u001b[0m     title_text \u001b[38;5;241m=\u001b[39m \u001b[38;5;124m'\u001b[39m\u001b[38;5;124mDelayed flight on Jan 1, 2015 in USA\u001b[39m\u001b[38;5;124m'\u001b[39m,\n\u001b[0;32m     13\u001b[0m     showlegend \u001b[38;5;241m=\u001b[39m \u001b[38;5;28;01mFalse\u001b[39;00m,\n\u001b[1;32m   (...)\u001b[0m\n\u001b[0;32m     16\u001b[0m     ),\n\u001b[0;32m     17\u001b[0m )\n",
      "\u001b[1;31mNameError\u001b[0m: name 'new_year_2015_flights_df' is not defined"
     ]
    }
   ],
   "source": [
    "for i in range(len(new_year_2015_flights_df)):\n",
    "    fig.add_trace(\n",
    "        go.Scattergeo(\n",
    "            locationmode = 'USA-states',\n",
    "            lon = [new_year_2015_flights_df['ORIGIN_AIRPORT_LONGITUDE'][i], new_year_2015_flights_df['DESTINATION_AIRPORT_LONGITUDE'][i]],\n",
    "            lat = [new_year_2015_flights_df['ORIGIN_AIRPORT_LATITUDE'][i], new_year_2015_flights_df['DESTINATION_AIRPORT_LATITUDE'][i]],\n",
    "            mode = 'lines',\n",
    "            line = dict(width = 1,color = 'red')\n",
    "        )\n",
    "    )\n",
    "fig.update_layout(\n",
    "    title_text = 'Delayed flight on Jan 1, 2015 in USA',\n",
    "    showlegend = False,\n",
    "    geo = go.layout.Geo(\n",
    "        scope = 'usa'\n",
    "    ),\n",
    ")\n",
    "fig.show()\n"
   ]
  },
  {
   "cell_type": "code",
   "execution_count": null,
   "id": "91e18bb1",
   "metadata": {
    "scrolled": true
   },
   "outputs": [],
   "source": [
    "plt.subplot(121) \n",
    "df.HeartRate.plot.hist(color = \"#3a926a\")\n",
    "plt.title(\"Heart Rate Frequency\");"
   ]
  },
  {
   "cell_type": "code",
   "execution_count": null,
   "id": "488475a2",
   "metadata": {
    "scrolled": false
   },
   "outputs": [],
   "source": [
    "columns = df.columns[1:6]\n",
    "for i in range(len(columns)):\n",
    "    plt.figure(figsize = (8, 5))\n",
    "    sns.boxplot(data = df, \n",
    "                x = columns[i], \n",
    "                y = \"Age\",\n",
    "                color = \"#781efa\").set(title = f\"{columns[i]} by Age\");\n"
   ]
  },
  {
   "cell_type": "markdown",
   "id": "bd024ec3",
   "metadata": {},
   "source": [
    "Observation: It appears that a skewed distribution is caused by outliers in almost all variables. With the exception of HeartRate, we will just ignore that outlier for the time being as the value appears to be normal in this situation. There is an outlier in that variable whose value deviates too much from the rest of the range."
   ]
  },
  {
   "cell_type": "code",
   "execution_count": null,
   "id": "f5edd8b2",
   "metadata": {},
   "outputs": [],
   "source": [
    "# Feature Binning\n",
    "\n",
    "age_bins = [10, 20, 30, 40, 50, 60, 70, float('inf')]  \n",
    "bin_labels = ['10-19', '20-29', '30-39', '40-49', '50-59', '60-69', '70+'] \n",
    "\n",
    "# Create a new column 'Age Group' with bins\n",
    "df['age_group'] = pd.cut(df['Age'], bins=age_bins, labels=bin_labels, right=False)\n",
    "\n",
    "new_df = df.copy(deep=False)"
   ]
  },
  {
   "cell_type": "code",
   "execution_count": null,
   "id": "b51bfb4f",
   "metadata": {},
   "outputs": [],
   "source": [
    "new_df.head(3)"
   ]
  },
  {
   "cell_type": "code",
   "execution_count": null,
   "id": "aa3c1ad4",
   "metadata": {
    "scrolled": true
   },
   "outputs": [],
   "source": [
    "sns.countplot(new_df, x=\"age_group\")\n",
    "plt.title('Distribution of Individuals Across Age Groups')\n",
    "plt.figtext(0.5,0.001,'Figure 5', ha='center', va='center',fontsize=16, fontweight='bold')\n",
    "plt.show()"
   ]
  },
  {
   "cell_type": "markdown",
   "id": "24230fdc",
   "metadata": {},
   "source": [
    "The majority of patient records fall within the age range of 20-29, with the next highest number in the 10-19 age group, followed by 30-39, 40-49, 50-59, and 60-69. The number of records for individuals aged 70 and above is significantly lower, which is expected."
   ]
  },
  {
   "cell_type": "markdown",
   "id": "d88522d8",
   "metadata": {},
   "source": [
    "## Distribution of features"
   ]
  },
  {
   "cell_type": "code",
   "execution_count": null,
   "id": "2b8c9b4b",
   "metadata": {
    "scrolled": true
   },
   "outputs": [],
   "source": [
    "df.drop(columns=[\"age_group\" ], axis=1, inplace=True)\n",
    "\n",
    "df.head()"
   ]
  },
  {
   "cell_type": "markdown",
   "id": "dd4f3e7b",
   "metadata": {},
   "source": [
    "Pregnant women seem to have a body temperature of 98 F, which is normal body temperature\n",
    "Pregnant women with body temperature >= 100 mostly has higher health risk\n",
    "Almost every pregnant women with blood glucose level >= 8 has high health risk.\n",
    "But otherwise, they seems to have lower health risk with blood glucose < 8"
   ]
  },
  {
   "cell_type": "code",
   "execution_count": null,
   "id": "d5e54848",
   "metadata": {},
   "outputs": [],
   "source": [
    "Risk_counts = df['RiskLevel'].value_counts()\n",
    "print(Risk_counts)"
   ]
  },
  {
   "cell_type": "code",
   "execution_count": null,
   "id": "77796820",
   "metadata": {
    "scrolled": true
   },
   "outputs": [],
   "source": [
    "df.info()"
   ]
  },
  {
   "cell_type": "markdown",
   "id": "92d81138",
   "metadata": {},
   "source": [
    "Now we have in our dataset 452 rows and 6 features, and those 6 we will put through some visualisation."
   ]
  },
  {
   "cell_type": "code",
   "execution_count": null,
   "id": "2f753d83",
   "metadata": {
    "scrolled": true
   },
   "outputs": [],
   "source": [
    "df.hist(bins=30, figsize=(13, 30))\n",
    "plt.show()"
   ]
  },
  {
   "cell_type": "code",
   "execution_count": null,
   "id": "60132618",
   "metadata": {
    "scrolled": true
   },
   "outputs": [],
   "source": [
    "numeric_features = [feature for feature in df.columns if df[feature].dtype != 'O']\n",
    "\n",
    "plt.figure(figsize=(10, 300))\n",
    "for i, col in enumerate(numeric_features):\n",
    "    plt.subplot(60, 3, i+1)\n",
    "    sns.histplot(x=df[col], color='lightgreen')\n",
    "    plt.xlabel(col, weight='bold')\n",
    "    plt.tight_layout()"
   ]
  },
  {
   "cell_type": "markdown",
   "id": "e6e94929",
   "metadata": {},
   "source": [
    "I tried few diferent ways to visualise our the most recent df. As per our visualisation, seems like all our data is skewed and does not conform to a Gaussian distribution."
   ]
  },
  {
   "cell_type": "code",
   "execution_count": null,
   "id": "f760668e",
   "metadata": {
    "scrolled": true
   },
   "outputs": [],
   "source": [
    "sns.pairplot(df)\n",
    "plt.show()"
   ]
  },
  {
   "cell_type": "markdown",
   "id": "5df057ec",
   "metadata": {},
   "source": [
    "Diastolic and systolic blood pressure have a strong correlation. The graph indicates a positive correlation between them, with a correlation coefficient of 0.79. This indicates that there is either very little or no variation in the data between the SystolicBP and DiastolicBP variables. MultiColinearity is the term for this issue, which calls into question the statistical significance of an independent variable. Since we don't want a redundant variable when creating or training our model, we can eliminate one of them. However, we'll try to delve further to determine which variables should be removed and whether we really need to remove these ones."
   ]
  },
  {
   "cell_type": "code",
   "execution_count": null,
   "id": "3219f6f8",
   "metadata": {},
   "outputs": [],
   "source": [
    "numeric_columns = df.select_dtypes(include=[np.number]).columns.difference(['RiskLevel'])\n",
    "df[numeric_columns] = new_df[numeric_columns].apply(lambda x: np.log1p(x))"
   ]
  },
  {
   "cell_type": "code",
   "execution_count": null,
   "id": "c0664dd7",
   "metadata": {
    "scrolled": false
   },
   "outputs": [],
   "source": [
    "df.RiskLevel"
   ]
  },
  {
   "cell_type": "code",
   "execution_count": null,
   "id": "a869d28c",
   "metadata": {
    "scrolled": true
   },
   "outputs": [],
   "source": [
    "df.info()"
   ]
  },
  {
   "cell_type": "code",
   "execution_count": null,
   "id": "df28771f",
   "metadata": {},
   "outputs": [],
   "source": [
    "# Spliting the dataset into independent and dependent variables\n",
    "\n",
    "# Independent variables\n",
    "X = df.drop(columns=['RiskLevel'])\n",
    "\n",
    "# Dependent variables\n",
    "y = df['RiskLevel']"
   ]
  },
  {
   "cell_type": "code",
   "execution_count": null,
   "id": "94a2cea1",
   "metadata": {},
   "outputs": [],
   "source": [
    "X.shape"
   ]
  },
  {
   "cell_type": "code",
   "execution_count": null,
   "id": "5e175fe3",
   "metadata": {},
   "outputs": [],
   "source": [
    "y.shape"
   ]
  },
  {
   "cell_type": "code",
   "execution_count": null,
   "id": "3f23d6d1",
   "metadata": {},
   "outputs": [],
   "source": [
    "df.HeartRate"
   ]
  },
  {
   "cell_type": "code",
   "execution_count": null,
   "id": "3b8f637c",
   "metadata": {},
   "outputs": [],
   "source": [
    "df = df.drop([\"HeartRate\"], axis=1)"
   ]
  },
  {
   "cell_type": "markdown",
   "id": "2066c291",
   "metadata": {},
   "source": [
    "### KNN Imputer and MinMaxScaler"
   ]
  },
  {
   "cell_type": "markdown",
   "id": "579b2134",
   "metadata": {},
   "source": [
    "Keeping the data in its truest form in order to calculate the mean or median for imputation is best, but as the KNNImputer will be used for imputing the missing values in this dataset, it is better to scale the data in order for the KNNImputer to be more accurate (Gupta, 2023).\n",
    "The KNNImputer calculates the distances between values and finds the nearest values based on distance, therefore scaling before using the KNNImputer helps the imputer be more accurate.\n",
    "Scaling the data is important in order to compare the data, not by size but based on their right proportion. Scaling the data brings all the variables into the same standing.  The Standard Scaler can be influenced by outliers and the Robust Scaler is less likely to be influenced by outliers. MinMaxScaler will be used here. (Scikit Learn, 2023).\n",
    "The target variable is dropped at this point as it does not need to be scaled."
   ]
  },
  {
   "cell_type": "code",
   "execution_count": null,
   "id": "287b360c",
   "metadata": {},
   "outputs": [],
   "source": [
    "# Initialize the MinMaxScaler\n",
    "scaler = MinMaxScaler()\n",
    "\n",
    "# Fit and transform the independent variables using MinMaxScaler\n",
    "X_scaled = scaler.fit_transform(X)\n",
    "\n",
    "# X_scaled is now your scaled independent variable DataFrame"
   ]
  },
  {
   "cell_type": "code",
   "execution_count": null,
   "id": "0f9340fe",
   "metadata": {
    "scrolled": true
   },
   "outputs": [],
   "source": [
    "X_scaled"
   ]
  },
  {
   "cell_type": "markdown",
   "id": "12b0bea7",
   "metadata": {},
   "source": [
    "## Splitting Dataset"
   ]
  },
  {
   "cell_type": "code",
   "execution_count": null,
   "id": "f801fbf2",
   "metadata": {},
   "outputs": [],
   "source": [
    "from sklearn.model_selection import train_test_split\n",
    "\n",
    "train, test = train_test_split(df, test_size=0.2, random_state=122)\n",
    "\n",
    "# check the dimension of the train and test dataset after splitting\n",
    "print('Training dataset: ', train.shape)\n",
    "print('Test dataset: ', test.shape)"
   ]
  },
  {
   "cell_type": "markdown",
   "id": "4d1a8fa1",
   "metadata": {},
   "source": [
    "We will split our dataset into 80% train data and 20% test data."
   ]
  },
  {
   "cell_type": "code",
   "execution_count": null,
   "id": "99b45e16",
   "metadata": {
    "scrolled": true
   },
   "outputs": [],
   "source": [
    "X_train, X_test, y_train, y_test = train_test_split(X_scaled, y, test_size = 0.2, random_state = 1) \n",
    "\n",
    "X.shape, y.shape, X_train.shape, X_test.shape, y_train.shape, y_test.shape"
   ]
  },
  {
   "cell_type": "code",
   "execution_count": null,
   "id": "b2b4b00d",
   "metadata": {
    "scrolled": true
   },
   "outputs": [],
   "source": [
    "risk = train['RiskLevel'].value_counts().sort_values()\n",
    "\n",
    "figure, axes = plt.subplots(1,2, figsize=(15,5), gridspec_kw={'width_ratios':[1.5,1]})\n",
    "axes[0].barh(y=risk.index, width=risk.values, color=['lightgreen','skyblue','yellow'])\n",
    "axes[0].set_xlabel('Frequency')\n",
    "axes[0].grid(alpha=0.4)\n",
    "\n",
    "for index, values in enumerate(risk):\n",
    "    axes[0].text(values+3, index, str(values), va='center')\n",
    "\n",
    "axes[1].pie(risk.values, labels=risk.index, colors=['lightgreen','skyblue','yellow'], autopct='%.2f%%', explode=[0.05,0.05,0.05])\n",
    "figure.suptitle('Distribution of Classes in Risk Level', fontsize=15)\n",
    "plt.tight_layout()\n",
    "plt.show()"
   ]
  },
  {
   "cell_type": "code",
   "execution_count": null,
   "id": "8d8fec38",
   "metadata": {},
   "outputs": [],
   "source": [
    "Xtrain = train.drop(columns=['RiskLevel'], axis=1)\n",
    "ytrain = train['RiskLevel']\n",
    "\n",
    "Xtest = test.drop(columns=['RiskLevel'], axis=1)\n",
    "ytest = test['RiskLevel']\n",
    "\n",
    "print('Xtrain: ', Xtrain.shape)\n",
    "print('ytrain: ', ytrain.shape)\n",
    "print('Xtest:', Xtest.shape)\n",
    "print('ytest: ',ytest.shape)"
   ]
  },
  {
   "cell_type": "markdown",
   "id": "5817aaa1",
   "metadata": {},
   "source": [
    "## Modelling"
   ]
  },
  {
   "cell_type": "code",
   "execution_count": null,
   "id": "809a0e27",
   "metadata": {},
   "outputs": [],
   "source": [
    "models = []\n",
    "models.append(('LR', LogisticRegression(solver='liblinear', multi_class='ovr')))\n",
    "models.append(('LDA', LinearDiscriminantAnalysis()))\n",
    "models.append(('KNN', KNeighborsClassifier()))\n",
    "models.append(('CART', DecisionTreeClassifier()))\n",
    "models.append(('NB', GaussianNB()))\n",
    "models.append(('SVM', SVC(gamma='auto')))"
   ]
  },
  {
   "cell_type": "markdown",
   "id": "99c954c9",
   "metadata": {},
   "source": [
    "K-Nearest Neighbors (KNN) demonstrates the highest mean accuracy among the evaluated algorithms, closely followed by Linear Discriminant Analysis (LDA).\n",
    "Classification and Regression Trees (CART) show a lower mean accuracy, suggesting potential limitations in capturing complex relationships within the data.\n",
    "Logistic Regression (LR), Naive Bayes (NB), and Support Vector Machines (SVM) exhibit competitive mean accuracy scores."
   ]
  },
  {
   "cell_type": "code",
   "execution_count": null,
   "id": "371669e1",
   "metadata": {
    "scrolled": true
   },
   "outputs": [],
   "source": [
    "results = []\n",
    "names = []\n",
    "for name, model in models:\n",
    "\tkfold = StratifiedKFold(n_splits=10, random_state=1, shuffle=True)\n",
    "\tcv_results = cross_val_score(model, X_train, y_train, cv=kfold, scoring='accuracy')\n",
    "\tresults.append(cv_results)\n",
    "\tnames.append(name)\n",
    "\tprint('%s: %f (%f)' % (name, cv_results.mean(), cv_results.std()))"
   ]
  },
  {
   "cell_type": "markdown",
   "id": "fcdf030f",
   "metadata": {},
   "source": [
    "This conclusion provides a summary of the performance of the evaluated algorithms and highlights potential considerations for choosing between them in the context of the Maternal Health Risk Analysis project"
   ]
  },
  {
   "cell_type": "code",
   "execution_count": null,
   "id": "4e237a2c",
   "metadata": {
    "scrolled": false
   },
   "outputs": [],
   "source": [
    "pyplot.boxplot(results, labels=names)\n",
    "pyplot.title('Algorithm Comparison')\n",
    "plt.figtext(0.5,0.001,'Figure 6', ha='center', va='center',fontsize=16, fontweight='bold')\n",
    "plt.show()\n",
    "pyplot.show()"
   ]
  },
  {
   "cell_type": "markdown",
   "id": "e4df4385",
   "metadata": {},
   "source": [
    "The Maternal Health Risk Analysis project involved the evaluation of several machine learning algorithms to identify the most effective model for predicting maternal health risk levels. The following algorithms were considered: Logistic Regression (LR), Linear Discriminant Analysis (LDA), k-Nearest Neighbors (KNN), Classification and Regression Trees (CART), Naive Bayes (NB), and Support Vector Machines (SVM)."
   ]
  },
  {
   "cell_type": "code",
   "execution_count": null,
   "id": "d47f3cab",
   "metadata": {},
   "outputs": [],
   "source": [
    "model = KNeighborsClassifier(n_neighbors=5)\n",
    "model.fit(X_train, y_train)\n",
    "predictions = model.predict(X_test)"
   ]
  },
  {
   "cell_type": "code",
   "execution_count": null,
   "id": "edb71388",
   "metadata": {
    "scrolled": true
   },
   "outputs": [],
   "source": [
    "print(accuracy_score(y_test, predictions))"
   ]
  },
  {
   "cell_type": "markdown",
   "id": "fae67f67",
   "metadata": {},
   "source": [
    "In conclusion, the Maternal Health Risk Analysis project benefits from the promising predictive capabilities of K-Nearest Neighbors (KNN) and Linear Discriminant Analysis (LDA). The final selection should consider the trade-offs between accuracy, interpretability, and computational efficiency, and additional fine-tuning may further optimize the chosen algorithm for deployment in real-world healthcare scenarios."
   ]
  },
  {
   "cell_type": "code",
   "execution_count": null,
   "id": "12dc4e13",
   "metadata": {},
   "outputs": [],
   "source": [
    "print(confusion_matrix(y_test, predictions))"
   ]
  },
  {
   "cell_type": "code",
   "execution_count": null,
   "id": "dd8ddc8a",
   "metadata": {
    "scrolled": true
   },
   "outputs": [],
   "source": [
    "# Instantiate the classification model and visualizer\n",
    "classes=['low_risk','mid_risk','high_risk']\n",
    "model = KNeighborsClassifier()\n",
    "\n",
    "visualizer = ClassificationReport(model, classes=classes, support=True)\n",
    "\n",
    "visualizer.fit(X_train, y_train)        # Fit the visualizer and the model\n",
    "visualizer.score(X_test, y_test)        # Evaluate the model on the test \n",
    "\n",
    "# Adding a title to the plot\n",
    "plt.title('Confusion Matrix',fontsize=14,fontweight='bold',color='darkgrey',loc='left')\n",
    "\n",
    "# Adding a figure label\n",
    "plt.figtext(0.5,0.001,'Figure 7', ha='center', va='center',fontsize=16, fontweight='bold')\n"
   ]
  },
  {
   "cell_type": "code",
   "execution_count": null,
   "id": "8c87bfbe",
   "metadata": {},
   "outputs": [],
   "source": [
    "\n",
    "# Instantiate the visualizer with the classification model\n",
    "model = KNeighborsClassifier()\n",
    "visualizer = ROCAUC(model, classes=['low_risk','mid_risk','high_risk'])\n",
    "\n",
    "visualizer.fit(X_train, y_train)        # Fit the training data to the visualizer\n",
    "visualizer.score(X_test, y_test)        # Evaluate the model on the test data\n",
    "\n",
    "# Adding a title to the plot\n",
    "plt.title(\"Figure 8\", fontsize=14,fontweight='bold',color='darkgrey', loc='left')\n",
    "\n",
    "# Adding a figure label\n",
    "plt.figtext(0.5,0.001,'Figure 8', ha='center', va='center',fontsize=16, fontweight='bold')\n",
    "\n",
    "visualizer.show()                       # Finalize and show the figure\n"
   ]
  },
  {
   "cell_type": "code",
   "execution_count": null,
   "id": "9c3915e5",
   "metadata": {
    "scrolled": true
   },
   "outputs": [],
   "source": [
    "# Create the visualizer, fit, score, and show it\n",
    "model = KNeighborsClassifier()\n",
    "viz = PrecisionRecallCurve(\n",
    "     \n",
    "   model, per_class=True,\n",
    "    cmap=\"Set1\"\n",
    ")\n",
    "viz.fit(X_train, y_train)\n",
    "viz.score(X_test, y_test)\n",
    "viz.show()\n",
    "\n",
    "# Adding a figure label\n",
    "plt.figtext(0.5,0.001,'Figure 12', ha='center', va='center',fontsize=16, fontweight='bold')"
   ]
  },
  {
   "cell_type": "code",
   "execution_count": null,
   "id": "ff25341b",
   "metadata": {
    "scrolled": true
   },
   "outputs": [],
   "source": [
    "from sklearn.model_selection import GridSearchCV\n",
    "rf = RandomForestClassifier(random_state=42)\n",
    "\n",
    "\n",
    "param_grid = {\n",
    "    'n_estimators': [100, 200, 300],  \n",
    "    'max_depth': [None, 10, 20, 30],  \n",
    "    'min_samples_split': [2, 5, 10],  \n",
    "    'min_samples_leaf': [1, 2, 4]  \n",
    "}\n",
    "\n",
    "\n",
    "grid_search = GridSearchCV(estimator=rf, param_grid=param_grid, cv=5, scoring='accuracy', n_jobs=-1)\n",
    "\n",
    "\n",
    "grid_search.fit(X, y)\n",
    "\n",
    "best_params = grid_search.best_params_\n",
    "best_rf = grid_search.best_estimator_\n",
    "\n",
    "\n",
    "best_rf.fit(X, y)\n",
    "\n",
    "\n",
    "y_pred = best_rf.predict(X)  \n",
    "\n",
    "\n",
    "accuracy = accuracy_score(y, y_pred)\n",
    "print(\"Tuned Random Forest Accuracy: {:.2f}%\".format(accuracy * 100))\n",
    "\n",
    "print(\"Best Hyperparameters:\", best_params)"
   ]
  },
  {
   "cell_type": "markdown",
   "id": "1e471160",
   "metadata": {},
   "source": [
    "The Tuned Random Forest model exhibits a commendable accuracy of 79.65%, showcasing its improved performance after hyperparameter tuning. This optimized configuration signifies the importance of fine-tuning the Random Forest model for improved predictive capabilities. The achieved accuracy suggests that the model is well-suited for the given task and demonstrates the potential to provide reliable predictions in real-world scenarios.  "
   ]
  },
  {
   "cell_type": "markdown",
   "id": "51cb87ce",
   "metadata": {},
   "source": [
    "## Conclusion"
   ]
  },
  {
   "cell_type": "markdown",
   "id": "8e396966",
   "metadata": {},
   "source": [
    "K-Nearest Neighbors (KNN) and Linear Discriminant Analysis (LDA) demonstrated the highest mean accuracy among the evaluated algorithms.\n",
    "Classification and Regression Trees (CART) showed a lower mean accuracy, suggesting potential limitations in capturing complex relationships. The project provides actionable insights for healthcare professionals in predicting and managing maternal health risks. As for valid suggestions, it would be crucial to implement a system for continuous monitoring of the model's performance in real-world scenarios and update the model as needed, which rovides healthcare professionals with insights into feature importance to enhance interpretability and trust in the model's predictions.\n",
    "Also, as recommendation I would suggest collaboration between data scientists and healthcare professionals for better integration of the model into clinical workflows.\n",
    "By incorporating these suggestions, it can further enhance the effectiveness, interpretability, and real-world impact of the Maternal Health Risk Analysis project and the main  - it will help to maintain healthy preagnancy and labouring strong children."
   ]
  },
  {
   "cell_type": "markdown",
   "id": "7d666bbc",
   "metadata": {},
   "source": [
    "# Citations"
   ]
  },
  {
   "cell_type": "markdown",
   "id": "6acafa01",
   "metadata": {},
   "source": [
    "1. Branham, R.L. (1990) Sparse matrices, SpringerLink. Available at: https://link.springer.com/chapter/10.1007/978-1-4612-3362-6_3 (Accessed: 31 March 2024)."
   ]
  },
  {
   "cell_type": "markdown",
   "id": "46727e9a",
   "metadata": {},
   "source": [
    "2. Kumar, A. (2023). Classification problems in Machine Learning: Examples. Analytics Yogi. [Online]. Available at: https://vitalflux.com/classification-problems-real-world-examples/ [Accessed: 31 March 2024]."
   ]
  },
  {
   "cell_type": "markdown",
   "id": "a2808dfc",
   "metadata": {},
   "source": [
    "3. note.nkmk.me. (2024). pandas: Get summary statistics for each column with describe() | note.nkmk.me. [online] Available at: https://note.nkmk.me/en/python-pandas-describe/ [Accessed 13 Apr. 2024]."
   ]
  },
  {
   "cell_type": "code",
   "execution_count": null,
   "id": "24f86600",
   "metadata": {},
   "outputs": [],
   "source": []
  },
  {
   "cell_type": "code",
   "execution_count": null,
   "id": "374a1e94",
   "metadata": {},
   "outputs": [],
   "source": []
  },
  {
   "cell_type": "code",
   "execution_count": null,
   "id": "b6b06cd2",
   "metadata": {},
   "outputs": [],
   "source": []
  }
 ],
 "metadata": {
  "kernelspec": {
   "display_name": "Python 3 (ipykernel)",
   "language": "python",
   "name": "python3"
  },
  "language_info": {
   "codemirror_mode": {
    "name": "ipython",
    "version": 3
   },
   "file_extension": ".py",
   "mimetype": "text/x-python",
   "name": "python",
   "nbconvert_exporter": "python",
   "pygments_lexer": "ipython3",
   "version": "3.11.4"
  },
  "toc": {
   "base_numbering": 1,
   "nav_menu": {},
   "number_sections": true,
   "sideBar": true,
   "skip_h1_title": false,
   "title_cell": "Table of Contents",
   "title_sidebar": "Contents",
   "toc_cell": false,
   "toc_position": {},
   "toc_section_display": true,
   "toc_window_display": false
  }
 },
 "nbformat": 4,
 "nbformat_minor": 5
}
